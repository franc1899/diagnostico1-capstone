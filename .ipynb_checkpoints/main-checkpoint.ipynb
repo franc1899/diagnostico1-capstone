{
 "cells": [
  {
   "cell_type": "code",
   "execution_count": 5,
   "id": "57fe64bf",
   "metadata": {},
   "outputs": [],
   "source": [
    "import json\n",
    "import pandas as pd"
   ]
  },
  {
   "cell_type": "code",
   "execution_count": null,
   "id": "ea97f7e3",
   "metadata": {},
   "outputs": [],
   "source": [
    "df = pd.read_json('farmers-protest-tweets-2021-03-5.json', lines=True)"
   ]
  },
  {
   "cell_type": "code",
   "execution_count": 1,
   "id": "91d299ad",
   "metadata": {},
   "outputs": [
    {
     "ename": "NameError",
     "evalue": "name 'df' is not defined",
     "output_type": "error",
     "traceback": [
      "\u001b[0;31m---------------------------------------------------------------------------\u001b[0m",
      "\u001b[0;31mNameError\u001b[0m                                 Traceback (most recent call last)",
      "Input \u001b[0;32mIn [1]\u001b[0m, in \u001b[0;36m<module>\u001b[0;34m\u001b[0m\n\u001b[0;32m----> 1\u001b[0m \u001b[43mdf\u001b[49m\n",
      "\u001b[0;31mNameError\u001b[0m: name 'df' is not defined"
     ]
    }
   ],
   "source": [
    "df"
   ]
  },
  {
   "cell_type": "code",
   "execution_count": 20,
   "id": "86bca041",
   "metadata": {},
   "outputs": [
    {
     "data": {
      "text/plain": [
       "408128    https://twitter.com/rihanna/status/13566258896...\n",
       "395142    https://twitter.com/GretaThunberg/status/13566...\n",
       "266196    https://twitter.com/GretaThunberg/status/13572...\n",
       "366579    https://twitter.com/miakhalifa/status/13568483...\n",
       "372793    https://twitter.com/miakhalifa/status/13568277...\n",
       "314192    https://twitter.com/TeamJuJu/status/1357048037...\n",
       "215034    https://twitter.com/BobBlackman/status/1357755...\n",
       "398011    https://twitter.com/vanessa_vash/status/135668...\n",
       "325261    https://twitter.com/kylekuzma/status/135700972...\n",
       "163689    https://twitter.com/AmandaCerny/status/1359013...\n",
       "Name: url, dtype: object"
      ]
     },
     "execution_count": 20,
     "metadata": {},
     "output_type": "execute_result"
    }
   ],
   "source": [
    "def tweets(df):\n",
    "    df_sorted = df.sort_values('retweetCount', ascending = False).head(10)\n",
    "    tweets = df_sorted.loc[:,\"url\"]\n",
    "    tweets\n",
    "    return tweets"
   ]
  },
  {
   "cell_type": "code",
   "execution_count": 4,
   "id": "f78c8cc2",
   "metadata": {},
   "outputs": [],
   "source": [
    "def main(df):\n",
    "    tweets(df)"
   ]
  },
  {
   "cell_type": "code",
   "execution_count": 6,
   "id": "22aee12d",
   "metadata": {},
   "outputs": [
    {
     "ename": "NameError",
     "evalue": "name 'df' is not defined",
     "output_type": "error",
     "traceback": [
      "\u001b[0;31m---------------------------------------------------------------------------\u001b[0m",
      "\u001b[0;31mNameError\u001b[0m                                 Traceback (most recent call last)",
      "Input \u001b[0;32mIn [6]\u001b[0m, in \u001b[0;36m<module>\u001b[0;34m\u001b[0m\n\u001b[0;32m----> 1\u001b[0m main(\u001b[43mdf\u001b[49m)\n",
      "\u001b[0;31mNameError\u001b[0m: name 'df' is not defined"
     ]
    }
   ],
   "source": [
    "main(df)"
   ]
  },
  {
   "cell_type": "code",
   "execution_count": 14,
   "id": "e3fd0a5f",
   "metadata": {},
   "outputs": [],
   "source": []
  }
 ],
 "metadata": {
  "kernelspec": {
   "display_name": "Python 3 (ipykernel)",
   "language": "python",
   "name": "python3"
  },
  "language_info": {
   "codemirror_mode": {
    "name": "ipython",
    "version": 3
   },
   "file_extension": ".py",
   "mimetype": "text/x-python",
   "name": "python",
   "nbconvert_exporter": "python",
   "pygments_lexer": "ipython3",
   "version": "3.9.13"
  }
 },
 "nbformat": 4,
 "nbformat_minor": 5
}
