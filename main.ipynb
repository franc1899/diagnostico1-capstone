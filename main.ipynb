{
 "cells": [
  {
   "cell_type": "code",
   "execution_count": 1,
   "id": "57fe64bf",
   "metadata": {},
   "outputs": [],
   "source": [
    "import json\n",
    "import pandas as pd"
   ]
  },
  {
   "cell_type": "code",
   "execution_count": 5,
   "id": "ea97f7e3",
   "metadata": {},
   "outputs": [],
   "source": [
    "df = pd.read_json('farmers-protest-tweets-2021-03-5.json', lines=True)"
   ]
  },
  {
   "cell_type": "code",
   "execution_count": 14,
   "id": "e3fd0a5f",
   "metadata": {},
   "outputs": [],
   "source": [
    "df_sorted = df.sort_values('retweetCount', ascending = False).head(10)"
   ]
  },
  {
   "cell_type": "code",
   "execution_count": 20,
   "id": "86bca041",
   "metadata": {},
   "outputs": [
    {
     "data": {
      "text/plain": [
       "408128    https://twitter.com/rihanna/status/13566258896...\n",
       "395142    https://twitter.com/GretaThunberg/status/13566...\n",
       "266196    https://twitter.com/GretaThunberg/status/13572...\n",
       "366579    https://twitter.com/miakhalifa/status/13568483...\n",
       "372793    https://twitter.com/miakhalifa/status/13568277...\n",
       "314192    https://twitter.com/TeamJuJu/status/1357048037...\n",
       "215034    https://twitter.com/BobBlackman/status/1357755...\n",
       "398011    https://twitter.com/vanessa_vash/status/135668...\n",
       "325261    https://twitter.com/kylekuzma/status/135700972...\n",
       "163689    https://twitter.com/AmandaCerny/status/1359013...\n",
       "Name: url, dtype: object"
      ]
     },
     "execution_count": 20,
     "metadata": {},
     "output_type": "execute_result"
    }
   ],
   "source": [
    "tweets = df_sorted.loc[:,\"url\"]\n",
    "tweets"
   ]
  },
  {
   "cell_type": "code",
   "execution_count": 33,
   "id": "f78c8cc2",
   "metadata": {},
   "outputs": [
    {
     "data": {
      "text/plain": [
       "0         {'username': 'ShashiRajbhar6', 'displayname': ...\n",
       "1         {'username': 'kaursuk06272818', 'displayname':...\n",
       "2         {'username': 'kaursuk06272818', 'displayname':...\n",
       "3         {'username': 'SukhdevSingh_', 'displayname': '...\n",
       "4         {'username': 'Davidmu66668113', 'displayname':...\n",
       "                                ...                        \n",
       "419502    {'username': 'TeamSOOUDA', 'displayname': 'SOO...\n",
       "419503    {'username': 'VibhaBurman', 'displayname': 'vi...\n",
       "419504    {'username': 'NavJammu', 'displayname': 'Navne...\n",
       "419505    {'username': 'Atwal72', 'displayname': 'Watchi...\n",
       "419506    {'username': 'Manjind22050118', 'displayname':...\n",
       "Name: user, Length: 419507, dtype: object"
      ]
     },
     "execution_count": 33,
     "metadata": {},
     "output_type": "execute_result"
    }
   ],
   "source": [
    "df['user'][0]"
   ]
  }
 ],
 "metadata": {
  "kernelspec": {
   "display_name": "Python 3 (ipykernel)",
   "language": "python",
   "name": "python3"
  },
  "language_info": {
   "codemirror_mode": {
    "name": "ipython",
    "version": 3
   },
   "file_extension": ".py",
   "mimetype": "text/x-python",
   "name": "python",
   "nbconvert_exporter": "python",
   "pygments_lexer": "ipython3",
   "version": "3.9.13"
  }
 },
 "nbformat": 4,
 "nbformat_minor": 5
}
